{
  "cells": [
    {
      "cell_type": "markdown",
      "id": "3adbb5a9-5ca2-4620-b183-6eb173198ce6",
      "metadata": {
        "id": "3adbb5a9-5ca2-4620-b183-6eb173198ce6"
      },
      "source": [
        "# Social Media Computing: Assignment\n",
        "\n",
        "## Title: Apple Iphone Reviews Sentiment Analysis\n",
        "\n",
        "| Members                         |Student ID  |\n",
        "|---------------------------------|------------|\n",
        "| Aqra Alisa binti Rashidi        | 1211103093 |\n",
        "| Nurul Aqilah binti Mohd Shariff | 1211103097 |\n"
      ]
    },
    {
      "cell_type": "markdown",
      "id": "44d6bc70-bc2b-4f97-92e9-69c042bd0a51",
      "metadata": {
        "id": "44d6bc70-bc2b-4f97-92e9-69c042bd0a51"
      },
      "source": [
        "### 1. Data Cleaning"
      ]
    },
    {
      "cell_type": "code",
      "execution_count": null,
      "id": "7efcf153-42d5-4532-9a2a-6b96e9f50d9a",
      "metadata": {
        "id": "7efcf153-42d5-4532-9a2a-6b96e9f50d9a"
      },
      "outputs": [],
      "source": [
        "import sys\n",
        "\n",
        "if 'google.colab' in sys.modules:\n",
        "    from google.colab import drive\n",
        "    drive.mount('/content/drive')\n",
        "\n",
        "    csv_path = '/content/drive/MyDrive/iphone.csv'\n",
        "else:\n",
        "    csv_path = 'iphone.csv'"
      ]
    },
    {
      "cell_type": "code",
      "execution_count": null,
      "id": "c821aa6f-6bb1-43fe-8e84-461760879217",
      "metadata": {
        "id": "c821aa6f-6bb1-43fe-8e84-461760879217"
      },
      "outputs": [],
      "source": [
        "import pandas as pd\n",
        "df = pd.read_csv(csv_path)\n",
        "df.head()"
      ]
    },
    {
      "cell_type": "code",
      "execution_count": null,
      "id": "df54f0fb-a6a2-4d3d-a00a-2d7ba5d93bc2",
      "metadata": {
        "id": "df54f0fb-a6a2-4d3d-a00a-2d7ba5d93bc2"
      },
      "outputs": [],
      "source": [
        "df.shape"
      ]
    },
    {
      "cell_type": "code",
      "execution_count": null,
      "id": "93dc0e30-3092-4fc9-a26c-3faba8ac4664",
      "metadata": {
        "id": "93dc0e30-3092-4fc9-a26c-3faba8ac4664"
      },
      "outputs": [],
      "source": [
        "# check for any missing values\n",
        "\n",
        "df.isna().sum()"
      ]
    },
    {
      "cell_type": "code",
      "execution_count": null,
      "id": "b073e095-dc56-4d42-9737-da2579e6476b",
      "metadata": {
        "id": "b073e095-dc56-4d42-9737-da2579e6476b"
      },
      "outputs": [],
      "source": [
        "# remove missing values\n",
        "\n",
        "df = df.dropna()\n",
        "df.isna().sum()"
      ]
    },
    {
      "cell_type": "code",
      "execution_count": null,
      "id": "29267cf3-d6f3-419c-bcb1-4bb7155471ed",
      "metadata": {
        "id": "29267cf3-d6f3-419c-bcb1-4bb7155471ed"
      },
      "outputs": [],
      "source": [
        "# check for any dupllicates observations\n",
        "\n",
        "df.duplicated().sum()"
      ]
    },
    {
      "cell_type": "code",
      "execution_count": null,
      "id": "5b49935e-6671-49e6-82cd-ee4f7ead6f75",
      "metadata": {
        "id": "5b49935e-6671-49e6-82cd-ee4f7ead6f75"
      },
      "outputs": [],
      "source": [
        "# remove unnecessary columns\n",
        "\n",
        "print(df['reviewUrl'].unique())"
      ]
    },
    {
      "cell_type": "code",
      "execution_count": null,
      "id": "5cc0be79-762a-489b-8dbd-8ed4de7decd8",
      "metadata": {
        "id": "5cc0be79-762a-489b-8dbd-8ed4de7decd8"
      },
      "outputs": [],
      "source": [
        "print(df['reviewedIn'].unique())"
      ]
    },
    {
      "cell_type": "code",
      "execution_count": null,
      "id": "38ccbf59-d7b4-46c1-9181-fe205052514f",
      "metadata": {
        "id": "38ccbf59-d7b4-46c1-9181-fe205052514f"
      },
      "outputs": [],
      "source": [
        "print(df['variantAsin'].unique())"
      ]
    },
    {
      "cell_type": "code",
      "execution_count": null,
      "id": "52ff8a37-77be-4d9d-bdcf-04d488836455",
      "metadata": {
        "id": "52ff8a37-77be-4d9d-bdcf-04d488836455"
      },
      "outputs": [],
      "source": [
        "print(df['productAsin'].unique())"
      ]
    },
    {
      "cell_type": "code",
      "execution_count": null,
      "id": "b22a2a8e-9360-4510-8f56-e44769833080",
      "metadata": {
        "id": "b22a2a8e-9360-4510-8f56-e44769833080"
      },
      "outputs": [],
      "source": [
        "df = df.drop(['reviewUrl', 'reviewedIn', 'variantAsin', 'productAsin'], axis=1)"
      ]
    },
    {
      "cell_type": "code",
      "execution_count": null,
      "id": "3f839559-0ec1-43dd-a11b-da480649cde3",
      "metadata": {
        "id": "3f839559-0ec1-43dd-a11b-da480649cde3"
      },
      "outputs": [],
      "source": [
        "# combine columns (reviewTitle & reviewDescription)\n",
        "\n",
        "df['review'] = df['reviewTitle'] + ' ' + df['reviewDescription']\n",
        "df = df.drop(['reviewTitle', 'reviewDescription'], axis=1)\n",
        "\n",
        "print(df['review'])"
      ]
    },
    {
      "cell_type": "code",
      "execution_count": null,
      "id": "baa983be-3d1f-4232-8e73-0fba04423adb",
      "metadata": {
        "id": "baa983be-3d1f-4232-8e73-0fba04423adb"
      },
      "outputs": [],
      "source": [
        "print(df['variant'].unique())"
      ]
    },
    {
      "cell_type": "code",
      "execution_count": null,
      "id": "ff3a8a7a-a36c-4c05-b7b0-471e667d390b",
      "metadata": {
        "id": "ff3a8a7a-a36c-4c05-b7b0-471e667d390b"
      },
      "outputs": [],
      "source": [
        "# extract color and size from variant into 2 new columns\n",
        "\n",
        "import re\n",
        "\n",
        "def extract_color(variant):\n",
        "    match = re.search(r'(?:Color|Colour):\\s*([A-Za-z\\s()]+)', variant, re.IGNORECASE)\n",
        "    return match.group(1).strip().title() if match else None\n",
        "\n",
        "def extract_size(variant):\n",
        "    match = re.search(r'Size:\\s*(\\d+\\s*GB)', variant, re.IGNORECASE)\n",
        "    return re.sub(r'\\s+', '', match.group(1)) if match else None\n",
        "\n",
        "df['color'] = df['variant'].apply(extract_color)\n",
        "df['size'] = df['variant'].apply(extract_size)\n",
        "\n",
        "df['color'] = df['color'].str.strip().str.title()\n",
        "df['size'] = df['size'].str.replace(' ', '').str.upper()"
      ]
    },
    {
      "cell_type": "code",
      "execution_count": null,
      "id": "VaKD0I10cdK_",
      "metadata": {
        "id": "VaKD0I10cdK_"
      },
      "outputs": [],
      "source": [
        "# clean color col\n",
        "\n",
        "import re\n",
        "\n",
        "def clean_color(color):\n",
        "    if pd.isna(color):\n",
        "        return None\n",
        "    color = re.sub(r'\\(Product\\)', '', color, flags=re.IGNORECASE)\n",
        "    color = re.sub(r'size', '', color, flags=re.IGNORECASE)\n",
        "    color = re.sub(r'\\s+', ' ', color)  # replace multiple spaces with one\n",
        "    return color.strip().title()\n",
        "\n",
        "df['color'] = df['color'].apply(clean_color)"
      ]
    },
    {
      "cell_type": "code",
      "execution_count": null,
      "id": "nn82szGszBj0",
      "metadata": {
        "id": "nn82szGszBj0"
      },
      "outputs": [],
      "source": [
        "df[\"raw_text\"] = df[\"review\"]"
      ]
    },
    {
      "cell_type": "code",
      "execution_count": null,
      "id": "e59b2131-1719-4d18-b92f-ce14b043ffc0",
      "metadata": {
        "id": "e59b2131-1719-4d18-b92f-ce14b043ffc0"
      },
      "outputs": [],
      "source": [
        "# assign sentiment label\n",
        "\n",
        "def label_sentiment(rating):\n",
        "    if rating >= 4:\n",
        "        return \"positive\"\n",
        "    elif rating == 3:\n",
        "        return \"neutral\"\n",
        "    else:\n",
        "        return \"negative\"\n",
        "\n",
        "df[\"sentiment\"] = df[\"ratingScore\"].apply(label_sentiment)"
      ]
    },
    {
      "cell_type": "code",
      "execution_count": null,
      "id": "f10ca56e-e494-493a-9321-ac44ec2d3fc5",
      "metadata": {
        "id": "f10ca56e-e494-493a-9321-ac44ec2d3fc5"
      },
      "outputs": [],
      "source": [
        "df.head()"
      ]
    },
    {
      "cell_type": "markdown",
      "id": "d84a3a7b-aafa-46aa-8667-352d99429425",
      "metadata": {
        "id": "d84a3a7b-aafa-46aa-8667-352d99429425"
      },
      "source": [
        "### 2. Data Pre-processing\n",
        "\n",
        "- Lowercase texts\n",
        "- Remove punctuation & Special Characters\n",
        "- Tokenization\n",
        "- Stopword Removal\n",
        "- Stemming\n",
        "- Rejoin Tokens"
      ]
    },
    {
      "cell_type": "code",
      "execution_count": null,
      "id": "f25c767e-001f-4b04-8876-3f46a688a0ed",
      "metadata": {
        "id": "f25c767e-001f-4b04-8876-3f46a688a0ed"
      },
      "outputs": [],
      "source": [
        "pip install nltk"
      ]
    },
    {
      "cell_type": "code",
      "execution_count": null,
      "id": "29cc29db-18ec-4383-a160-18977d6c98b2",
      "metadata": {
        "id": "29cc29db-18ec-4383-a160-18977d6c98b2"
      },
      "outputs": [],
      "source": [
        "# lowercase\n",
        "\n",
        "df['cleaned_review'] = df['review'].str.lower()\n",
        "print(df['cleaned_review'])"
      ]
    },
    {
      "cell_type": "code",
      "execution_count": null,
      "id": "6cdc9f42-2e03-413e-89d8-b01fd38288b2",
      "metadata": {
        "id": "6cdc9f42-2e03-413e-89d8-b01fd38288b2"
      },
      "outputs": [],
      "source": [
        "# remove punctuation and special characters\n",
        "\n",
        "import re\n",
        "df['cleaned_review'] = df['cleaned_review'].apply(lambda x: re.sub(r'[^\\w\\s]', '', x))\n",
        "print(df['cleaned_review'])"
      ]
    },
    {
      "cell_type": "code",
      "execution_count": null,
      "id": "9acfcb0d-01f0-4be1-8ded-825aaca7347f",
      "metadata": {
        "id": "9acfcb0d-01f0-4be1-8ded-825aaca7347f"
      },
      "outputs": [],
      "source": [
        "# tokenization\n",
        "\n",
        "from nltk.tokenize import word_tokenize\n",
        "import nltk\n",
        "nltk.download('punkt_tab')\n",
        "\n",
        "df['tokens'] = df['cleaned_review'].apply(word_tokenize)\n",
        "print(df['tokens'])"
      ]
    },
    {
      "cell_type": "code",
      "execution_count": null,
      "id": "e3864032-a54b-47a8-ae20-b28d098dd076",
      "metadata": {
        "id": "e3864032-a54b-47a8-ae20-b28d098dd076"
      },
      "outputs": [],
      "source": [
        "# stopword removal\n",
        "\n",
        "from nltk.corpus import stopwords\n",
        "nltk.download('stopwords')\n",
        "stop_words = set(stopwords.words('english'))\n",
        "\n",
        "df['tokens'] = df['tokens'].apply(lambda tokens: [w for w in tokens if w not in stop_words])\n",
        "print(df['tokens'])"
      ]
    },
    {
      "cell_type": "code",
      "execution_count": null,
      "id": "13c76f8a-8ca2-4d9b-880e-717f1690ca55",
      "metadata": {
        "id": "13c76f8a-8ca2-4d9b-880e-717f1690ca55"
      },
      "outputs": [],
      "source": [
        "# stemming\n",
        "\n",
        "from nltk.stem import PorterStemmer\n",
        "stemmer = PorterStemmer()\n",
        "\n",
        "df['tokens'] = df['tokens'].apply(lambda tokens: [stemmer.stem(w) for w in tokens])\n",
        "print(df['tokens'])"
      ]
    },
    {
      "cell_type": "code",
      "execution_count": null,
      "id": "e9688f9d-5f6b-4cf4-ac22-b52eadb8f09b",
      "metadata": {
        "id": "e9688f9d-5f6b-4cf4-ac22-b52eadb8f09b"
      },
      "outputs": [],
      "source": [
        "# rejoin tokens into 'cleaned_review' and drop 'tokens'\n",
        "\n",
        "df['cleaned_review'] = df['tokens'].apply(lambda tokens: ' '.join(tokens))\n",
        "df  = df.drop(['tokens'], axis=1)"
      ]
    },
    {
      "cell_type": "code",
      "execution_count": null,
      "id": "b74cf0e3-8e44-40f6-8789-aef56dc436c0",
      "metadata": {
        "id": "b74cf0e3-8e44-40f6-8789-aef56dc436c0"
      },
      "outputs": [],
      "source": [
        "df.head()"
      ]
    },
    {
      "cell_type": "markdown",
      "id": "a3d38a28-7352-447c-8508-752a2daa3298",
      "metadata": {
        "id": "a3d38a28-7352-447c-8508-752a2daa3298"
      },
      "source": [
        "### 3. Data Encoding"
      ]
    },
    {
      "cell_type": "code",
      "execution_count": null,
      "id": "2a5578ac-b069-4818-b7b1-c563642b2e8a",
      "metadata": {
        "id": "2a5578ac-b069-4818-b7b1-c563642b2e8a"
      },
      "outputs": [],
      "source": [
        "from sklearn.preprocessing import LabelEncoder\n",
        "le = LabelEncoder()\n",
        "df[\"sentiment_encoded\"] = le.fit_transform(df['sentiment'])  # will be 0=negative, 1=neutral, 2=positive\n",
        "print(le.classes_)"
      ]
    },
    {
      "cell_type": "markdown",
      "id": "87874c79-ba96-42e3-988c-a52265896208",
      "metadata": {
        "id": "87874c79-ba96-42e3-988c-a52265896208"
      },
      "source": [
        "### 4. Data Splitting"
      ]
    },
    {
      "cell_type": "code",
      "execution_count": null,
      "id": "59c630cd-bde1-4180-bc0f-fda9a62b7c65",
      "metadata": {
        "id": "59c630cd-bde1-4180-bc0f-fda9a62b7c65"
      },
      "outputs": [],
      "source": [
        "from sklearn.feature_extraction.text import TfidfVectorizer\n",
        "\n",
        "vectorizer = TfidfVectorizer(max_features=3000)\n",
        "X = vectorizer.fit_transform(df['cleaned_review'])\n",
        "y = df['sentiment_encoded']"
      ]
    },
    {
      "cell_type": "code",
      "execution_count": null,
      "id": "6f772271-1531-4d7b-b70f-901515f02279",
      "metadata": {
        "id": "6f772271-1531-4d7b-b70f-901515f02279"
      },
      "outputs": [],
      "source": [
        "from sklearn.model_selection import train_test_split\n",
        "\n",
        "X_train, X_test, y_train, y_test = train_test_split(X, y, test_size=0.2, random_state=42)"
      ]
    },
    {
      "cell_type": "markdown",
      "id": "856186f8",
      "metadata": {
        "id": "856186f8"
      },
      "source": [
        "### 5. Traditional ML Models"
      ]
    },
    {
      "cell_type": "markdown",
      "id": "Vqrc3cM8qcvr",
      "metadata": {
        "id": "Vqrc3cM8qcvr"
      },
      "source": [
        "#### 5.1 Logistic Regression"
      ]
    },
    {
      "cell_type": "code",
      "execution_count": null,
      "id": "523b282d",
      "metadata": {
        "id": "523b282d"
      },
      "outputs": [],
      "source": [
        "from sklearn.metrics import classification_report, confusion_matrix, ConfusionMatrixDisplay\n",
        "from sklearn.linear_model import LogisticRegression\n",
        "\n",
        "\n",
        "# logistic Regression\n",
        "\n",
        "lr = LogisticRegression(max_iter=1000)\n",
        "lr1= lr.fit(X_train, y_train)\n",
        "y_pred_lr = lr1.predict(X_test)\n",
        "print(\"Logistic Regression:\")\n",
        "print(classification_report(y_test, y_pred_lr))\n",
        "\n",
        "conf_mat_lr = confusion_matrix(y_test, y_pred_lr)\n",
        "ConfusionMatrixDisplay(confusion_matrix = conf_mat_lr).plot();"
      ]
    },
    {
      "cell_type": "markdown",
      "id": "tJsIvMv5qm0G",
      "metadata": {
        "id": "tJsIvMv5qm0G"
      },
      "source": [
        "#### 5.2 Logistic Regression Tuning"
      ]
    },
    {
      "cell_type": "code",
      "execution_count": null,
      "id": "AiDjOkVxc6Qk",
      "metadata": {
        "id": "AiDjOkVxc6Qk"
      },
      "outputs": [],
      "source": [
        "# !! run once and restart once !!\n",
        "!pip install numpy==1.26.4"
      ]
    },
    {
      "cell_type": "code",
      "execution_count": null,
      "id": "cc5a0d74-f41e-47c5-a548-c8d74b107615",
      "metadata": {
        "id": "cc5a0d74-f41e-47c5-a548-c8d74b107615"
      },
      "outputs": [],
      "source": [
        "import numpy as np\n",
        "from sklearn.model_selection import RandomizedSearchCV\n",
        "\n",
        "# logistic regression with hyperparameter tuning\n",
        "C = np.logspace(0, 4, num=10)\n",
        "penalty = ['l1', 'l2']\n",
        "solver = ['liblinear', 'saga']\n",
        "hyperparameters = dict(C=C, penalty=penalty, solver=solver)\n",
        "\n",
        "randomizedsearch = RandomizedSearchCV(lr, hyperparameters)\n",
        "lr2 = randomizedsearch.fit(X_train, y_train)\n",
        "best_lr = lr2.best_estimator_\n",
        "y_pred_lr2 = lr2.predict(X_test)\n",
        "print(\"Logistic Regression After Tuning:\")\n",
        "print(classification_report(y_test, y_pred_lr2))\n",
        "\n",
        "conf_mat_lr2 = confusion_matrix(y_test, y_pred_lr2)\n",
        "ConfusionMatrixDisplay(confusion_matrix = conf_mat_lr2).plot();"
      ]
    },
    {
      "cell_type": "markdown",
      "id": "QItM6HTuqsJv",
      "metadata": {
        "id": "QItM6HTuqsJv"
      },
      "source": [
        "#### 5.3 Support Vector Machine"
      ]
    },
    {
      "cell_type": "code",
      "execution_count": null,
      "id": "2d321939",
      "metadata": {
        "id": "2d321939"
      },
      "outputs": [],
      "source": [
        "from sklearn.svm import SVC\n",
        "\n",
        "# support vector machine\n",
        "\n",
        "svm = SVC()\n",
        "svm.fit(X_train, y_train)\n",
        "y_pred_svm = svm.predict(X_test)\n",
        "print(\"SVM:\")\n",
        "print(classification_report(y_test, y_pred_svm))\n",
        "\n",
        "conf_mat_svm = confusion_matrix(y_test, y_pred_svm)\n",
        "ConfusionMatrixDisplay(confusion_matrix = conf_mat_svm).plot();"
      ]
    },
    {
      "cell_type": "markdown",
      "id": "aQDiJIqHqy30",
      "metadata": {
        "id": "aQDiJIqHqy30"
      },
      "source": [
        "#### 5.4 Support Vector Machine Tuning"
      ]
    },
    {
      "cell_type": "code",
      "execution_count": null,
      "id": "3-zz5sAJele0",
      "metadata": {
        "id": "3-zz5sAJele0"
      },
      "outputs": [],
      "source": [
        "from sklearn.model_selection import GridSearchCV\n",
        "from sklearn.svm import SVC\n",
        "from sklearn.metrics import classification_report\n",
        "\n",
        "# svm with hyperparameter tuning\n",
        "\n",
        "param_grid = {'C': [0.1, 1, 10],'kernel': ['linear', 'rbf', 'poly'],'gamma': ['scale', 'auto']\n",
        "}\n",
        "\n",
        "grid_svm= GridSearchCV(estimator=svm, param_grid=param_grid, cv=5, scoring='f1_macro', verbose=2, n_jobs=-1)\n",
        "grid_svm.fit(X_train, y_train)\n",
        "\n",
        "best_svm = grid_svm.best_estimator_\n",
        "y_pred_svm2 = best_svm.predict(X_test)\n",
        "\n",
        "print(\"SVM After Tuning:\")\n",
        "print(classification_report(y_test, y_pred_svm2))\n",
        "\n",
        "conf_mat_svm2 = confusion_matrix(y_test, y_pred_svm2)\n",
        "ConfusionMatrixDisplay(confusion_matrix = conf_mat_svm2).plot();"
      ]
    },
    {
      "cell_type": "markdown",
      "id": "H37kOzsmq3b-",
      "metadata": {
        "id": "H37kOzsmq3b-"
      },
      "source": [
        "#### 5.5 Random Forest"
      ]
    },
    {
      "cell_type": "code",
      "execution_count": null,
      "id": "0bc6c603",
      "metadata": {
        "id": "0bc6c603"
      },
      "outputs": [],
      "source": [
        "from sklearn.ensemble import RandomForestClassifier\n",
        "\n",
        "# random forest\n",
        "\n",
        "rf = RandomForestClassifier()\n",
        "rf1 = rf.fit(X_train, y_train)\n",
        "y_pred_rf1 = rf1.predict(X_test)\n",
        "print(\"Random Forest:\")\n",
        "print(classification_report(y_test, y_pred_rf1))\n",
        "\n",
        "conf_mat_rf1 = confusion_matrix(y_test, y_pred_rf1)\n",
        "ConfusionMatrixDisplay(confusion_matrix = conf_mat_rf1).plot();"
      ]
    },
    {
      "cell_type": "markdown",
      "id": "K171I_AKq8yc",
      "metadata": {
        "id": "K171I_AKq8yc"
      },
      "source": [
        "#### 5.6 Random Forest Tuning"
      ]
    },
    {
      "cell_type": "code",
      "execution_count": null,
      "id": "7QzGldm_kkY1",
      "metadata": {
        "id": "7QzGldm_kkY1"
      },
      "outputs": [],
      "source": [
        "from scipy.stats import randint\n",
        "\n",
        "# random forest with hyperparameter tuning\n",
        "\n",
        "hype_range_rf1 = {'n_estimators' : randint(50,500), 'max_depth' : randint(1,20)}\n",
        "srch_hype_forest1 = RandomizedSearchCV(rf, param_distributions = hype_range_rf1, n_iter = 30, cv = 5)\n",
        "srch_hype_forest1.fit(X_train, y_train)\n",
        "best_RForest1 = srch_hype_forest1.best_estimator_\n",
        "y_predforest = best_RForest1.predict(X_test)\n",
        "\n",
        "print(\"Random Forest After Tuning:\")\n",
        "print(classification_report(y_test, y_predforest))\n",
        "\n",
        "conf_mat_rf2 = confusion_matrix(y_test, y_predforest)\n",
        "ConfusionMatrixDisplay(confusion_matrix = conf_mat_rf2).plot();"
      ]
    },
    {
      "cell_type": "code",
      "execution_count": null,
      "id": "aU5Io2CYTnmZ",
      "metadata": {
        "id": "aU5Io2CYTnmZ"
      },
      "outputs": [],
      "source": [
        "from sklearn.metrics import classification_report\n",
        "\n",
        "# save results\n",
        "\n",
        "report_lr = classification_report(y_test, y_pred_lr, output_dict=True)\n",
        "report_lr_aft_tuning = classification_report(y_test, y_pred_lr2, output_dict=True)\n",
        "\n",
        "report_svm = classification_report(y_test, y_pred_svm, output_dict=True)\n",
        "report_svm_aft_tuning = classification_report(y_test, y_pred_svm2, output_dict=True)\n",
        "\n",
        "report_rf = classification_report(y_test, y_pred_rf1, output_dict=True)\n",
        "report_rf_aft_tuning = classification_report(y_test, y_predforest, output_dict=True)"
      ]
    },
    {
      "cell_type": "code",
      "execution_count": null,
      "id": "164a837a-9a3c-473a-b387-500e30a3862f",
      "metadata": {
        "id": "164a837a-9a3c-473a-b387-500e30a3862f"
      },
      "outputs": [],
      "source": [
        "from sklearn.model_selection import cross_validate, StratifiedKFold\n",
        "from sklearn.metrics import make_scorer, precision_score, recall_score, f1_score, accuracy_score\n",
        "\n",
        "# k-fold cross validation\n",
        "cv = StratifiedKFold(n_splits=5, shuffle=True, random_state=42)\n",
        "\n",
        "scoring = {\n",
        "    'accuracy': make_scorer(accuracy_score),\n",
        "    'precision_macro': make_scorer(precision_score, average='macro'),\n",
        "    'recall_macro': make_scorer(recall_score, average='macro'),\n",
        "    'f1_macro': make_scorer(f1_score, average='macro')\n",
        "}\n",
        "\n",
        "cv_results_lr = cross_validate(best_lr, X_train, y_train, cv=cv, scoring=scoring)\n",
        "cv_results_svm = cross_validate(best_svm, X_train, y_train, cv=cv, scoring=scoring)\n",
        "cv_results_rf = cross_validate(best_RForest1, X_train, y_train, cv=cv, scoring=scoring)"
      ]
    },
    {
      "cell_type": "markdown",
      "id": "f0bb5329-6f33-445c-b2f5-f87256f8972e",
      "metadata": {
        "id": "f0bb5329-6f33-445c-b2f5-f87256f8972e"
      },
      "source": [
        "### Transformers: DistilBERT"
      ]
    },
    {
      "cell_type": "code",
      "execution_count": null,
      "id": "39a9c18b-f847-4840-a5d4-c2d47df34279",
      "metadata": {
        "id": "39a9c18b-f847-4840-a5d4-c2d47df34279"
      },
      "outputs": [],
      "source": [
        "pip install transformers datasets scikit-learn torch"
      ]
    },
    {
      "cell_type": "code",
      "execution_count": null,
      "id": "ocq_aNrtlPqk",
      "metadata": {
        "id": "ocq_aNrtlPqk"
      },
      "outputs": [],
      "source": [
        "print(df.columns)"
      ]
    },
    {
      "cell_type": "code",
      "execution_count": null,
      "id": "8a7c57d2-31cb-4b7d-8a3d-b9edeb340848",
      "metadata": {
        "id": "8a7c57d2-31cb-4b7d-8a3d-b9edeb340848"
      },
      "outputs": [],
      "source": [
        "# convert df to hugging face dataset\n",
        "\n",
        "from datasets import Dataset\n",
        "\n",
        "dataset = Dataset.from_pandas(df[['cleaned_review', 'sentiment_encoded']])\n",
        "dataset = dataset.rename_columns({'cleaned_review': 'text', 'sentiment_encoded': 'label'})\n",
        "\n",
        "dataset = dataset.train_test_split(test_size=0.2)\n",
        "print(dataset)"
      ]
    },
    {
      "cell_type": "code",
      "execution_count": null,
      "id": "a06b6ac2-1cd1-49e6-a415-c9c6fc48f7d6",
      "metadata": {
        "id": "a06b6ac2-1cd1-49e6-a415-c9c6fc48f7d6"
      },
      "outputs": [],
      "source": [
        "from transformers import DistilBertTokenizerFast\n",
        "\n",
        "tokenizer = DistilBertTokenizerFast.from_pretrained('distilbert-base-uncased')\n",
        "\n",
        "def tokenize_function(examples):\n",
        "    return tokenizer(examples['text'], padding='max_length', truncation=True)\n",
        "\n",
        "tokenized_dataset = dataset.map(tokenize_function, batched=True)\n",
        "tokenized_dataset = tokenized_dataset.remove_columns([\"text\", \"__index_level_0__\"])\n",
        "tokenized_dataset = tokenized_dataset.rename_column(\"label\", \"labels\")\n",
        "tokenized_dataset.set_format(\"torch\", columns=['input_ids', 'attention_mask', 'labels'])"
      ]
    },
    {
      "cell_type": "code",
      "execution_count": null,
      "id": "oZK4_44-mTyr",
      "metadata": {
        "id": "oZK4_44-mTyr"
      },
      "outputs": [],
      "source": [
        "dataset_split = tokenized_dataset['train'].train_test_split(test_size=0.2, seed=42)\n",
        "\n",
        "train_dataset = dataset_split['train']\n",
        "test_dataset = dataset_split['test']"
      ]
    },
    {
      "cell_type": "code",
      "execution_count": null,
      "id": "x7kCv46IoKVN",
      "metadata": {
        "id": "x7kCv46IoKVN"
      },
      "outputs": [],
      "source": [
        "# !! only run once and restart session once !!\n",
        "\n",
        "!pip install -U datasets"
      ]
    },
    {
      "cell_type": "code",
      "execution_count": null,
      "id": "1434bcd1-3e79-4e5d-a5e7-242da0f9e8a8",
      "metadata": {
        "id": "1434bcd1-3e79-4e5d-a5e7-242da0f9e8a8",
        "scrolled": true
      },
      "outputs": [],
      "source": [
        "from transformers import DistilBertTokenizerFast, DistilBertForSequenceClassification\n",
        "from transformers import Trainer, TrainingArguments\n",
        "\n",
        "# transformer: DistilBERT\n",
        "\n",
        "model = DistilBertForSequenceClassification.from_pretrained(\n",
        "    'distilbert-base-uncased', num_labels=3\n",
        ")\n",
        "\n",
        "def compute_metrics(eval_pred):\n",
        "    logits, labels = eval_pred\n",
        "    preds = np.argmax(logits, axis=1)\n",
        "    return {\n",
        "        \"accuracy\": accuracy_score(labels, preds),\n",
        "        \"f1\": f1_score(labels, preds, average=\"macro\")\n",
        "    }\n",
        "\n",
        "training_args = TrainingArguments(\n",
        "    output_dir='./results',\n",
        "    num_train_epochs=2,\n",
        "    per_device_train_batch_size=16,\n",
        "    per_device_eval_batch_size=16,\n",
        "    logging_dir='./logs',\n",
        "    logging_steps=1,\n",
        "    report_to='none'\n",
        ")\n",
        "\n",
        "# trainer\n",
        "trainer = Trainer(\n",
        "    model=model,\n",
        "    args=training_args,\n",
        "    train_dataset=train_dataset,\n",
        "    eval_dataset=test_dataset\n",
        ")\n",
        "\n",
        "# train the model\n",
        "trainer.train()"
      ]
    },
    {
      "cell_type": "code",
      "execution_count": null,
      "id": "1045e270-8ac9-4d71-b344-4dbf7d081f4e",
      "metadata": {
        "id": "1045e270-8ac9-4d71-b344-4dbf7d081f4e"
      },
      "outputs": [],
      "source": [
        "# evaluate the transformer\n",
        "\n",
        "trainer.evaluate()"
      ]
    },
    {
      "cell_type": "code",
      "execution_count": null,
      "id": "5c81a05d-8485-4ea7-82a0-755df92dce98",
      "metadata": {
        "id": "5c81a05d-8485-4ea7-82a0-755df92dce98"
      },
      "outputs": [],
      "source": [
        "predictions = trainer.predict(test_dataset)"
      ]
    },
    {
      "cell_type": "code",
      "execution_count": null,
      "id": "e5a744ff-c69b-48b4-a810-98a2da95184d",
      "metadata": {
        "id": "e5a744ff-c69b-48b4-a810-98a2da95184d"
      },
      "outputs": [],
      "source": [
        "import numpy as np\n",
        "y_pred_bert = np.argmax(predictions.predictions, axis=1)\n",
        "y_true_bert = predictions.label_ids\n",
        "report_bert = classification_report(y_true_bert, y_pred_bert, output_dict=True)"
      ]
    },
    {
      "cell_type": "code",
      "execution_count": null,
      "id": "aff698b9-c977-406d-a246-af4629a18993",
      "metadata": {
        "id": "aff698b9-c977-406d-a246-af4629a18993"
      },
      "outputs": [],
      "source": [
        "# show results in a table (ml models & transformer)\n",
        "\n",
        "import pandas as pd\n",
        "\n",
        "data = {\n",
        "    \"Model\": [\"Logistic Regression\",\"Logistic Regression Tuned\", \"SVM\", \"SVM Tuned\", \"Random Forest\",\"Random Forest Tuned\", \"DistilBERT\"],\n",
        "    \"Accuracy\": [\n",
        "        report_lr[\"accuracy\"],\n",
        "        report_lr_aft_tuning[\"accuracy\"],\n",
        "        report_svm[\"accuracy\"],\n",
        "        report_svm_aft_tuning[\"accuracy\"],\n",
        "        report_rf[\"accuracy\"],\n",
        "        report_rf_aft_tuning[\"accuracy\"],\n",
        "        report_bert[\"accuracy\"]\n",
        "    ],\n",
        "    \"Precision\": [\n",
        "        report_lr[\"macro avg\"][\"precision\"],\n",
        "        report_lr_aft_tuning[\"macro avg\"][\"precision\"],\n",
        "        report_svm[\"macro avg\"][\"precision\"],\n",
        "        report_svm_aft_tuning[\"macro avg\"][\"precision\"],\n",
        "        report_rf[\"macro avg\"][\"precision\"],\n",
        "        report_rf_aft_tuning[\"macro avg\"][\"precision\"],\n",
        "        report_bert[\"macro avg\"][\"precision\"]\n",
        "    ],\n",
        "    \"Recall\": [\n",
        "        report_lr[\"macro avg\"][\"recall\"],\n",
        "        report_lr_aft_tuning[\"macro avg\"][\"recall\"],\n",
        "        report_svm[\"macro avg\"][\"recall\"],\n",
        "        report_svm_aft_tuning[\"macro avg\"][\"recall\"],\n",
        "        report_rf[\"macro avg\"][\"recall\"],\n",
        "        report_rf_aft_tuning[\"macro avg\"][\"recall\"],\n",
        "        report_bert[\"macro avg\"][\"recall\"]\n",
        "    ],\n",
        "    \"F1-Score\": [\n",
        "        report_lr[\"macro avg\"][\"f1-score\"],\n",
        "        report_lr_aft_tuning[\"macro avg\"][\"f1-score\"],\n",
        "        report_svm[\"macro avg\"][\"f1-score\"],\n",
        "        report_svm_aft_tuning[\"macro avg\"][\"f1-score\"],\n",
        "        report_rf[\"macro avg\"][\"f1-score\"],\n",
        "        report_rf_aft_tuning[\"macro avg\"][\"f1-score\"],\n",
        "        report_bert[\"macro avg\"][\"f1-score\"]\n",
        "    ]\n",
        "}\n",
        "\n",
        "df_performance = pd.DataFrame(data)\n",
        "df_performance"
      ]
    },
    {
      "cell_type": "markdown",
      "id": "d0f2abbe-ff34-4065-9fd4-ffffd355ab38",
      "metadata": {
        "id": "d0f2abbe-ff34-4065-9fd4-ffffd355ab38"
      },
      "source": [
        "### ABSA"
      ]
    },
    {
      "cell_type": "code",
      "execution_count": null,
      "id": "1cd4557f-57e1-4b76-8b59-222a1b6ce462",
      "metadata": {
        "id": "1cd4557f-57e1-4b76-8b59-222a1b6ce462"
      },
      "outputs": [],
      "source": [
        "df.info()"
      ]
    },
    {
      "cell_type": "code",
      "execution_count": null,
      "id": "fcb3a684-4e14-4f4e-9264-cc9f72075f4d",
      "metadata": {
        "id": "fcb3a684-4e14-4f4e-9264-cc9f72075f4d"
      },
      "outputs": [],
      "source": [
        "# !! only run once and restart session once !!\n",
        "\n",
        "!pip install spacy"
      ]
    },
    {
      "cell_type": "code",
      "execution_count": null,
      "id": "4afeefb0-3397-4f66-8b18-2fd780dfab15",
      "metadata": {
        "id": "4afeefb0-3397-4f66-8b18-2fd780dfab15"
      },
      "outputs": [],
      "source": [
        "import spacy"
      ]
    },
    {
      "cell_type": "code",
      "execution_count": null,
      "id": "524f4e60-a4e8-4511-bea2-7418d9998b3a",
      "metadata": {
        "id": "524f4e60-a4e8-4511-bea2-7418d9998b3a"
      },
      "outputs": [],
      "source": [
        "!python -m spacy download en_core_web_sm"
      ]
    },
    {
      "cell_type": "code",
      "execution_count": null,
      "id": "dfcd0a97-f579-40e3-a1fc-2ba784cfe8e2",
      "metadata": {
        "id": "dfcd0a97-f579-40e3-a1fc-2ba784cfe8e2"
      },
      "outputs": [],
      "source": [
        "import pandas as pd\n",
        "import spacy\n",
        "from nltk.sentiment.vader import SentimentIntensityAnalyzer\n",
        "nltk.download('vader_lexicon')\n",
        "\n",
        "nlp = spacy.load(\"en_core_web_sm\")\n",
        "vader = SentimentIntensityAnalyzer()\n",
        "\n",
        "# function to extract noun phrases (aspects)\n",
        "def extract_aspects_and_sentiment(text):\n",
        "    doc = nlp(text)\n",
        "    aspects = []\n",
        "    for sent in doc.sents:\n",
        "        sentiment = vader.polarity_scores(sent.text)['compound']\n",
        "        label = 'positive' if sentiment > 0.2 else 'negative' if sentiment < -0.2 else 'neutral'\n",
        "        for chunk in sent.noun_chunks:\n",
        "            noun = chunk.text.lower()\n",
        "            if len(noun.split()) <= 2:\n",
        "                aspects.append((noun, label))\n",
        "    return aspects\n",
        "\n",
        "df['aspects'] = df['cleaned_review'].apply(extract_aspects_and_sentiment)\n",
        "df[['review', 'aspects','sentiment', 'sentiment_encoded']].head(20)"
      ]
    },
    {
      "cell_type": "code",
      "execution_count": null,
      "id": "d339ae1d-88d5-4c25-9e21-1775712814c0",
      "metadata": {
        "id": "d339ae1d-88d5-4c25-9e21-1775712814c0"
      },
      "outputs": [],
      "source": [
        "from collections import defaultdict\n",
        "import matplotlib.pyplot as plt\n",
        "\n",
        "# flatten aspects\n",
        "aspect_sentiment_counter = defaultdict(lambda: {'positive': 0, 'negative': 0, 'neutral': 0})\n",
        "\n",
        "for aspects in df['aspects']:\n",
        "    for noun, sentiment in aspects:\n",
        "        aspect_sentiment_counter[noun][sentiment] += 1\n",
        "\n",
        "aspect_summary = pd.DataFrame(aspect_sentiment_counter).T\n",
        "aspect_summary = aspect_summary.sort_values(by='positive', ascending=False)\n",
        "aspect_summary.head(20)"
      ]
    },
    {
      "cell_type": "code",
      "execution_count": null,
      "id": "73ab1e22-cc77-4ac3-85c7-44417c20cb5d",
      "metadata": {
        "id": "73ab1e22-cc77-4ac3-85c7-44417c20cb5d"
      },
      "outputs": [],
      "source": [
        "aspect_summary.head(10).plot(kind='bar', stacked=True, figsize=(10,6))\n",
        "plt.title(\"Top Aspects and Their Sentiment Distribution\")\n",
        "plt.ylabel(\"Count\")\n",
        "plt.xlabel(\"Aspect\")\n",
        "plt.xticks(rotation=45)\n",
        "plt.tight_layout()\n",
        "plt.show()"
      ]
    },
    {
      "cell_type": "code",
      "execution_count": null,
      "id": "e2fda7f1-36dd-4ab2-b86e-b11d01565d84",
      "metadata": {
        "id": "e2fda7f1-36dd-4ab2-b86e-b11d01565d84"
      },
      "outputs": [],
      "source": [
        "aspect_df = df.explode('aspects')  # expand list of tuples into rows\n",
        "aspect_df[['aspect', 'predicted_sentiment']] = pd.DataFrame(aspect_df['aspects'].tolist(), index=aspect_df.index)"
      ]
    },
    {
      "cell_type": "code",
      "execution_count": null,
      "id": "7b4f57e0-f8d8-466a-8732-46f5cb077a86",
      "metadata": {
        "id": "7b4f57e0-f8d8-466a-8732-46f5cb077a86"
      },
      "outputs": [],
      "source": [
        "from collections import Counter\n",
        "\n",
        "# count total sentiments\n",
        "\n",
        "def majority_sentiment(aspects):\n",
        "    sentiments = [s for a, s in aspects]\n",
        "    if sentiments:\n",
        "        return Counter(sentiments).most_common(1)[0][0]\n",
        "    return 'neutral'  # fallback\n",
        "\n",
        "df['aspect_majority_sentiment'] = df['aspects'].apply(majority_sentiment)\n",
        "\n",
        "comparison = pd.crosstab(df['sentiment'], df['aspect_majority_sentiment'])\n",
        "print(comparison)"
      ]
    },
    {
      "cell_type": "code",
      "execution_count": null,
      "id": "33dfb5be-a689-447f-8a24-43d1ca52b430",
      "metadata": {
        "id": "33dfb5be-a689-447f-8a24-43d1ca52b430"
      },
      "outputs": [],
      "source": [
        "df.info()"
      ]
    },
    {
      "cell_type": "markdown",
      "id": "90d94ffc-4914-4800-9c2d-bee635d6fdb6",
      "metadata": {
        "id": "90d94ffc-4914-4800-9c2d-bee635d6fdb6"
      },
      "source": [
        "### Result Visualizations"
      ]
    },
    {
      "cell_type": "code",
      "execution_count": null,
      "id": "59606610-561d-468a-8808-9fe183cdba56",
      "metadata": {
        "id": "59606610-561d-468a-8808-9fe183cdba56"
      },
      "outputs": [],
      "source": [
        "pip install wordcloud"
      ]
    },
    {
      "cell_type": "code",
      "execution_count": null,
      "id": "056098a9-100c-4e74-b4a3-a401b6fa7e40",
      "metadata": {
        "id": "056098a9-100c-4e74-b4a3-a401b6fa7e40"
      },
      "outputs": [],
      "source": [
        "import pandas as pd\n",
        "import matplotlib.pyplot as plt\n",
        "import seaborn as sns\n",
        "from wordcloud import WordCloud\n",
        "from datetime import datetime"
      ]
    },
    {
      "cell_type": "code",
      "execution_count": null,
      "id": "rzBNzjW_xXWT",
      "metadata": {
        "id": "rzBNzjW_xXWT"
      },
      "outputs": [],
      "source": [
        "# bar chart: model comparison\n",
        "\n",
        "df_melted = df_performance.melt(id_vars='Model', var_name='Metric', value_name='Score')\n",
        "\n",
        "plt.figure(figsize=(12, 6))\n",
        "sns.barplot(data=df_melted, x='Model', y='Score', hue='Metric')\n",
        "plt.title(\"Model Performance Comparison\")\n",
        "plt.ylim(0, 1)\n",
        "plt.xticks(rotation=45)\n",
        "plt.legend(loc='lower right')\n",
        "plt.tight_layout()\n",
        "plt.show()"
      ]
    },
    {
      "cell_type": "code",
      "execution_count": null,
      "id": "c871d166-a018-42f4-94e7-3c1c8643e6d3",
      "metadata": {
        "id": "c871d166-a018-42f4-94e7-3c1c8643e6d3"
      },
      "outputs": [],
      "source": [
        "# bar chart: sentiment distribution\n",
        "\n",
        "plt.figure(figsize=(6,4))\n",
        "sns.countplot(data=df, x='sentiment', palette={\n",
        "    'positive': 'green',\n",
        "    'neutral': 'gray',\n",
        "    'negative': 'red'\n",
        "})\n",
        "plt.title('Sentiment Distribution')\n",
        "plt.xlabel('Sentiment')\n",
        "plt.ylabel('Count')\n",
        "plt.show()"
      ]
    },
    {
      "cell_type": "code",
      "execution_count": null,
      "id": "82c41c7d-bc88-4417-a39c-7cde9b5e312c",
      "metadata": {
        "id": "82c41c7d-bc88-4417-a39c-7cde9b5e312c"
      },
      "outputs": [],
      "source": [
        "# wordcloud for aspects: positive, neutral & negative\n",
        "\n",
        "for sentiment in ['positive', 'neutral', 'negative']:\n",
        "    text = \" \".join(df[df['sentiment'] == sentiment]['cleaned_review'])\n",
        "    wordcloud = WordCloud(width=1000, height=500, background_color='white').generate(text)\n",
        "\n",
        "    plt.figure(figsize=(10, 5))\n",
        "    plt.imshow(wordcloud, interpolation='bilinear')\n",
        "    plt.axis('off')\n",
        "    plt.title(f'Word Cloud - {sentiment.capitalize()} Sentiment')\n",
        "    plt.show()"
      ]
    },
    {
      "cell_type": "code",
      "execution_count": null,
      "id": "811e1cb3-da9c-475e-af87-906c42e7af67",
      "metadata": {
        "id": "811e1cb3-da9c-475e-af87-906c42e7af67"
      },
      "outputs": [],
      "source": [
        "# bar chart: sentiment by verified and unverified users\n",
        "\n",
        "plt.figure(figsize=(8,5))\n",
        "sns.countplot(data=df, x='sentiment', hue='isVerified', palette='coolwarm')\n",
        "plt.title('Sentiment by Verified/Unverified Reviewers')\n",
        "plt.xlabel('Sentiment')\n",
        "plt.ylabel('Count')\n",
        "plt.legend(title='Is Verified')\n",
        "plt.show()"
      ]
    },
    {
      "cell_type": "code",
      "execution_count": null,
      "id": "aefac3a0-34c9-4b1f-bdb7-8fbdaf128788",
      "metadata": {
        "id": "aefac3a0-34c9-4b1f-bdb7-8fbdaf128788"
      },
      "outputs": [],
      "source": [
        "# bar chart: top 5 countries\n",
        "\n",
        "top_countries = df['country'].value_counts().nlargest(5).index\n",
        "df_top_countries = df[df['country'].isin(top_countries)]\n",
        "\n",
        "plt.figure(figsize=(12,6))\n",
        "sns.countplot(data=df_top_countries, x='country', hue='sentiment', palette='Set1')\n",
        "plt.title('Sentiment Distribution by Top 5 Countries')\n",
        "plt.xlabel('Country')\n",
        "plt.ylabel('Count')\n",
        "plt.legend(title='Sentiment')\n",
        "plt.show()"
      ]
    },
    {
      "cell_type": "code",
      "execution_count": null,
      "id": "8a26daef-8310-47ce-8504-3329119abaf0",
      "metadata": {
        "id": "8a26daef-8310-47ce-8504-3329119abaf0"
      },
      "outputs": [],
      "source": [
        "print(df['color'].unique())"
      ]
    },
    {
      "cell_type": "code",
      "execution_count": null,
      "id": "b816e7ac-e3fe-4582-a821-e748c0391822",
      "metadata": {
        "id": "b816e7ac-e3fe-4582-a821-e748c0391822"
      },
      "outputs": [],
      "source": [
        "# bar chart: sentiment by color\n",
        "\n",
        "df_color = df.dropna(subset=['color'])\n",
        "\n",
        "plt.figure(figsize=(12,6))\n",
        "sns.countplot(data=df_color, x='color', hue='sentiment',\n",
        "              palette={'positive': 'green', 'neutral': 'gray', 'negative': 'red'},\n",
        "              order=df_color['color'].value_counts().index)\n",
        "plt.title('Sentiment Distribution by Product Color')\n",
        "plt.xlabel('Color')\n",
        "plt.ylabel('Number of Reviews')\n",
        "plt.xticks(rotation=45)\n",
        "plt.legend(title='Sentiment')\n",
        "plt.show()"
      ]
    },
    {
      "cell_type": "code",
      "execution_count": null,
      "id": "c16d0178-8ee4-473a-99dc-5e80d7ddc931",
      "metadata": {
        "id": "c16d0178-8ee4-473a-99dc-5e80d7ddc931"
      },
      "outputs": [],
      "source": [
        "print(df['size'].unique())"
      ]
    },
    {
      "cell_type": "code",
      "execution_count": null,
      "id": "cf0bb1f9-122c-424d-9667-a6ef451eaa32",
      "metadata": {
        "id": "cf0bb1f9-122c-424d-9667-a6ef451eaa32"
      },
      "outputs": [],
      "source": [
        "# bar chart: sentiment by size\n",
        "\n",
        "plt.figure(figsize=(10, 6))\n",
        "sns.countplot(data=df, x='size', hue='sentiment',\n",
        "              palette={'positive': 'green', 'neutral': 'gray', 'negative': 'red'})\n",
        "plt.title('Sentiment Distribution by Size')\n",
        "plt.xlabel('Product Size')\n",
        "plt.ylabel('Number of Reviews')\n",
        "plt.xticks(rotation=45)\n",
        "plt.legend(title='Sentiment')\n",
        "plt.tight_layout()\n",
        "plt.show()"
      ]
    }
  ],
  "metadata": {
    "accelerator": "GPU",
    "colab": {
      "gpuType": "T4",
      "provenance": []
    },
    "kernelspec": {
      "display_name": "Python 3",
      "name": "python3"
    },
    "language_info": {
      "codemirror_mode": {
        "name": "ipython",
        "version": 3
      },
      "file_extension": ".py",
      "mimetype": "text/x-python",
      "name": "python",
      "nbconvert_exporter": "python",
      "pygments_lexer": "ipython3",
      "version": "3.12.7"
    }
  },
  "nbformat": 4,
  "nbformat_minor": 5
}